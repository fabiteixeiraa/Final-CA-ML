{
 "cells": [
  {
   "cell_type": "markdown",
   "id": "b2c5578e",
   "metadata": {},
   "source": [
    "# Tutorial 11\n",
    "# Item-based Collaborative Filtering "
   ]
  },
  {
   "cell_type": "code",
   "execution_count": 1,
   "id": "7dd41e61",
   "metadata": {},
   "outputs": [],
   "source": [
    "import pandas as pd\n",
    "import numpy as np\n",
    "from scipy.sparse import csr_matrix\n",
    "from sklearn.neighbors import NearestNeighbors\n",
    "import matplotlib.pyplot as plt\n",
    "import seaborn as sns"
   ]
  },
  {
   "cell_type": "code",
   "execution_count": 2,
   "id": "f76d7bec",
   "metadata": {},
   "outputs": [
    {
     "name": "stdout",
     "output_type": "stream",
     "text": [
      "   user_id  item_id  rating  timestamp\n",
      "0      196      242       3  881250949\n",
      "1      186      302       3  891717742\n",
      "2       22      377       1  878887116\n",
      "3      244       51       2  880606923\n",
      "4      166      346       1  886397596\n"
     ]
    }
   ],
   "source": [
    "import pandas as pd \n",
    "header = ['user_id','item_id','rating','timestamp']\n",
    "dataset = pd.read_csv('ml-100k/u.data',sep = '\\t',names = header)\n",
    "print(dataset.head())"
   ]
  },
  {
   "cell_type": "markdown",
   "id": "624d3851",
   "metadata": {},
   "source": [
    "## Transforming data into the matrix\n",
    "\n",
    "Next, we transform the dataset into a matrix where each row represents the user and column represents the item.\n",
    "\n",
    "The n_users defines the number of users whereas n_items defines the number of items in the dataset. The loop iterates through each row of the dataframe and extracts ratings from it to form the user-item rating matrix."
   ]
  },
  {
   "cell_type": "code",
   "execution_count": 3,
   "id": "651d3110",
   "metadata": {},
   "outputs": [
    {
     "name": "stdout",
     "output_type": "stream",
     "text": [
      "943 1682\n"
     ]
    }
   ],
   "source": [
    "n_users = dataset.user_id.unique().shape[0]\n",
    "n_items = dataset.item_id.unique().shape[0]\n",
    "n_items = dataset['item_id'].max()\n",
    "\n",
    "print(n_users, n_items)"
   ]
  },
  {
   "cell_type": "code",
   "execution_count": 5,
   "metadata": {},
   "outputs": [
    {
     "name": "stdout",
     "output_type": "stream",
     "text": [
      "[[0. 0. 0. ... 0. 0. 0.]\n",
      " [0. 0. 0. ... 0. 0. 0.]\n",
      " [0. 0. 0. ... 0. 0. 0.]\n",
      " ...\n",
      " [0. 0. 0. ... 0. 0. 0.]\n",
      " [0. 0. 0. ... 0. 0. 0.]\n",
      " [0. 0. 0. ... 0. 0. 0.]] (943, 1682)\n"
     ]
    }
   ],
   "source": [
    "A = np.zeros((n_users,n_items))\n",
    "\n",
    "print(A,A.shape)"
   ]
  },
  {
   "cell_type": "code",
   "execution_count": 6,
   "metadata": {},
   "outputs": [
    {
     "name": "stdout",
     "output_type": "stream",
     "text": [
      "Original rating matrix :  [[5. 3. 4. ... 0. 0. 0.]\n",
      " [4. 0. 0. ... 0. 0. 0.]\n",
      " [0. 0. 0. ... 0. 0. 0.]\n",
      " ...\n",
      " [5. 0. 0. ... 0. 0. 0.]\n",
      " [0. 0. 0. ... 0. 0. 0.]\n",
      " [0. 5. 0. ... 0. 0. 0.]]\n"
     ]
    }
   ],
   "source": [
    "A = np.zeros((n_users,n_items))\n",
    "for line in dataset.itertuples():\n",
    "    A[line[1]-1,line[2]-1] = line[3]\n",
    "print(\"Original rating matrix : \",A)"
   ]
  },
  {
   "cell_type": "markdown",
   "id": "4e96bff2",
   "metadata": {},
   "source": [
    "The MovieLens dataset consists of ratings on a scale of 1-5 where 1 represents the lowest rating while 5 represents the highest rating. However, different ratings could have different meanings to users. For instance, a rating of 3 might be good for one user while average for another user.\n",
    "\n",
    "To solve this ambiguity, big giants such as Netflix or YouTube have moved to binary ratings. Therefore, in this blog, we will work on binary ratings instead of continuous ratings to keep ourselves in sync with the latest research.\n",
    "\n",
    "The below code converts the MovieLens dataset into the binary MovieLens dataset. We have considered items whose ratings are greater or equal to 3 being liked by the user and others being disliked by the user. As we are only considerate about the liking of users, making ratings less than 3 as 0 would not impact the recommendation process."
   ]
  },
  {
   "cell_type": "code",
   "execution_count": 7,
   "id": "92e08cfd",
   "metadata": {},
   "outputs": [],
   "source": [
    "for i in range(len(A)):\n",
    "  for j in range(len(A[0])):\n",
    "    if A[i][j]>=3:\n",
    "      A[i][j]=1\n",
    "    else:\n",
    "      A[i][j]=0"
   ]
  },
  {
   "cell_type": "markdown",
   "id": "4fb329b9",
   "metadata": {},
   "source": [
    "Further, users rarely provide ratings to items which results in a sparse dataset. The considered MovieLens dataset is 93.7% sparse which is further being increased by converting the matrix into a binary matrix. Therefore, to save the memory, we convert the dense rating matrix into a sparse matrix using the csr_matrix() function."
   ]
  },
  {
   "cell_type": "code",
   "execution_count": 8,
   "id": "3245f863",
   "metadata": {},
   "outputs": [
    {
     "name": "stdout",
     "output_type": "stream",
     "text": [
      "  (0, 0)\t1.0\n",
      "  (0, 1)\t1.0\n",
      "  (0, 2)\t1.0\n",
      "  (0, 3)\t1.0\n",
      "  (0, 4)\t1.0\n",
      "  (0, 5)\t1.0\n",
      "  (0, 6)\t1.0\n",
      "  (0, 8)\t1.0\n",
      "  (0, 9)\t1.0\n",
      "  (0, 11)\t1.0\n",
      "  (0, 12)\t1.0\n",
      "  (0, 13)\t1.0\n",
      "  (0, 14)\t1.0\n",
      "  (0, 15)\t1.0\n",
      "  (0, 16)\t1.0\n",
      "  (0, 17)\t1.0\n",
      "  (0, 18)\t1.0\n",
      "  (0, 19)\t1.0\n",
      "  (0, 21)\t1.0\n",
      "  (0, 22)\t1.0\n",
      "  (0, 23)\t1.0\n",
      "  (0, 24)\t1.0\n",
      "  (0, 25)\t1.0\n",
      "  (0, 27)\t1.0\n",
      "  (0, 29)\t1.0\n",
      "  :\t:\n",
      "  (942, 624)\t1.0\n",
      "  (942, 654)\t1.0\n",
      "  (942, 671)\t1.0\n",
      "  (942, 684)\t1.0\n",
      "  (942, 716)\t1.0\n",
      "  (942, 720)\t1.0\n",
      "  (942, 721)\t1.0\n",
      "  (942, 731)\t1.0\n",
      "  (942, 738)\t1.0\n",
      "  (942, 762)\t1.0\n",
      "  (942, 764)\t1.0\n",
      "  (942, 793)\t1.0\n",
      "  (942, 795)\t1.0\n",
      "  (942, 807)\t1.0\n",
      "  (942, 815)\t1.0\n",
      "  (942, 823)\t1.0\n",
      "  (942, 824)\t1.0\n",
      "  (942, 839)\t1.0\n",
      "  (942, 927)\t1.0\n",
      "  (942, 942)\t1.0\n",
      "  (942, 1043)\t1.0\n",
      "  (942, 1073)\t1.0\n",
      "  (942, 1187)\t1.0\n",
      "  (942, 1227)\t1.0\n",
      "  (942, 1329)\t1.0\n"
     ]
    }
   ],
   "source": [
    "csr_sample = csr_matrix(A)\n",
    "print(csr_sample)"
   ]
  },
  {
   "cell_type": "markdown",
   "id": "07ceec1f",
   "metadata": {},
   "source": [
    "## Items Similarity Computation\n",
    "Compute similarity between items of csr_sample using cosine similarity as shown below:"
   ]
  },
  {
   "cell_type": "code",
   "execution_count": null,
   "id": "94be1fab",
   "metadata": {},
   "outputs": [],
   "source": [
    "knn = NearestNeighbors(metric='cosine', algorithm='brute', n_neighbors=3, n_jobs=-1)\n",
    "knn.fit(csr_sample)"
   ]
  },
  {
   "cell_type": "markdown",
   "id": "22607e42",
   "metadata": {},
   "source": [
    "## Generate Recommendations\n",
    "Once, the similarity between items is computed, the final step is to generate recommendations for the target user. Here, we are generating recommendations for the user_id: 1.\n",
    "\n",
    "We generate recommendations for user_id:1 based on 20 items being liked by him. So, we first get the 20 items being liked/consumed by the user as shown below:"
   ]
  },
  {
   "cell_type": "code",
   "execution_count": null,
   "id": "2ddd788f",
   "metadata": {},
   "outputs": [],
   "source": [
    "dataset_sort_des = dataset.sort_values(['user_id', 'timestamp'], ascending=[True, False])\n",
    "filter1 = dataset_sort_des[dataset_sort_des['user_id'] == 1].item_id\n",
    "filter1 = filter1.tolist()\n",
    "filter1 = filter1[:20]\n",
    "print(\"Items liked by user: \",filter1)"
   ]
  },
  {
   "cell_type": "markdown",
   "id": "96aca41e",
   "metadata": {},
   "source": [
    "Next, for each item being liked by the user1, we recommend 2 similar items. The number of similar items to be recommended can vary depending on the need of the system."
   ]
  },
  {
   "cell_type": "code",
   "execution_count": null,
   "id": "bbce0256",
   "metadata": {},
   "outputs": [],
   "source": [
    "distances1=[]\n",
    "indices1=[]\n",
    "for i in filter1:\n",
    "  distances , indices = knn.kneighbors(csr_sample[i],n_neighbors=3)\n",
    "  indices = indices.flatten()\n",
    "  indices= indices[1:]\n",
    "  indices1.extend(indices)\n",
    "print(\"Items to be recommended: \",indices1)"
   ]
  },
  {
   "cell_type": "markdown",
   "id": "de8b4bd4",
   "metadata": {},
   "source": [
    "The above output screen shows the recommendations being generated for user1. For ease of use and simplicity, we have used movie_id here but movie_id can be replaced with corresponding movie name by fetching information from the movies dataset.\n",
    "\n",
    "## Conclusion\n",
    "A recommender system or recommendation system is a subclass of information filtering systems that predict the items the user may be interested in based on the user past behaviour.\n",
    "\n",
    "Collaborative filtering is one such recommendation technique that filters items of user interest based on user/item similarity. Due to ease of use and domain-free, it is being used and explored at a large scale by researchers.\n",
    "\n",
    "In this blog, we have implemented item-based collaborative filtering to recommend movies to users using cosine similarity. Other similarity metrics such as the Pearson correlation coefficient and Jaccard similarity could also be explored. This is still an open area of research with the motive to provide the user with the most relevant items."
   ]
  },
  {
   "cell_type": "markdown",
   "id": "5c4a9b16",
   "metadata": {},
   "source": [
    "## Reference\n",
    "* <p>https://www.analyticsvidhya.com/blog/2021/05/item-based-collaborative-filtering-build-your-own-recommender-system/</p>"
   ]
  }
 ],
 "metadata": {
  "kernelspec": {
   "display_name": "Python 3",
   "language": "python",
   "name": "python3"
  },
  "language_info": {
   "codemirror_mode": {
    "name": "ipython",
    "version": 3
   },
   "file_extension": ".py",
   "mimetype": "text/x-python",
   "name": "python",
   "nbconvert_exporter": "python",
   "pygments_lexer": "ipython3",
   "version": "3.8.5"
  }
 },
 "nbformat": 4,
 "nbformat_minor": 5
}
