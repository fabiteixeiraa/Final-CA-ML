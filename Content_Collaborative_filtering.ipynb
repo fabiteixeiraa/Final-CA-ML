{
 "cells": [
  {
   "cell_type": "code",
   "execution_count": 1,
   "metadata": {},
   "outputs": [],
   "source": [
    "#pip install surprise"
   ]
  },
  {
   "cell_type": "code",
   "execution_count": 2,
   "metadata": {},
   "outputs": [],
   "source": [
    "import pandas as pd\n",
    "import numpy as np\n",
    "from scipy.sparse import csr_matrix\n",
    "from sklearn.neighbors import NearestNeighbors\n",
    "import matplotlib.pyplot as plt\n",
    "import seaborn as sns\n",
    "from sklearn.metrics.pairwise import cosine_similarity\n",
    "from sklearn.metrics import pairwise_distances\n",
    "from surprise.model_selection import train_test_split\n",
    "from surprise import Reader\n",
    "from surprise import Dataset\n",
    "from surprise.model_selection import cross_validate\n",
    "from surprise import NormalPredictor,KNNBasic,KNNWithMeans,KNNWithZScore,KNNBaseline,SVD,BaselineOnly,SVDpp,NMF,SlopeOne,CoClustering\n",
    "from surprise.accuracy import rmse\n",
    "from surprise import accuracy"
   ]
  },
  {
   "cell_type": "code",
   "execution_count": 3,
   "metadata": {},
   "outputs": [
    {
     "name": "stderr",
     "output_type": "stream",
     "text": [
      "<ipython-input-3-1dc5693745f4>:1: ParserWarning: Falling back to the 'python' engine because the 'c' engine does not support regex separators (separators > 1 char and different from '\\s+' are interpreted as regex); you can avoid this warning by specifying engine='python'.\n",
      "  users = pd.read_csv('users.csv', sep='\\\";\\\"', names=['User-ID', 'Location', 'Age'], encoding='latin-1', skiprows=1)\n",
      "<ipython-input-3-1dc5693745f4>:2: ParserWarning: Falling back to the 'python' engine because the 'c' engine does not support regex separators (separators > 1 char and different from '\\s+' are interpreted as regex); you can avoid this warning by specifying engine='python'.\n",
      "  books = pd.read_csv('books.csv', sep='\\\";\\\"', names=['ISBN', 'Book-Title' ,'Book-Author','Year-Of-Publication', 'Publisher', 'Image-Url-S', 'Image-Url-M', 'Image-Url-L'], encoding='latin-1', skiprows=1)\n",
      "<ipython-input-3-1dc5693745f4>:3: ParserWarning: Falling back to the 'python' engine because the 'c' engine does not support regex separators (separators > 1 char and different from '\\s+' are interpreted as regex); you can avoid this warning by specifying engine='python'.\n",
      "  ratings = pd.read_csv('ratings.csv', sep='\\\";\\\"', names=['User-ID', 'ISBN', 'Book-Rating'], encoding='latin-1', skiprows=1)\n"
     ]
    }
   ],
   "source": [
    "users = pd.read_csv('users.csv', sep='\\\";\\\"', names=['User-ID', 'Location', 'Age'], encoding='latin-1', skiprows=1)\n",
    "books = pd.read_csv('books.csv', sep='\\\";\\\"', names=['ISBN', 'Book-Title' ,'Book-Author','Year-Of-Publication', 'Publisher', 'Image-Url-S', 'Image-Url-M', 'Image-Url-L'], encoding='latin-1', skiprows=1)\n",
    "ratings = pd.read_csv('ratings.csv', sep='\\\";\\\"', names=['User-ID', 'ISBN', 'Book-Rating'], encoding='latin-1', skiprows=1)"
   ]
  },
  {
   "cell_type": "code",
   "execution_count": 4,
   "metadata": {},
   "outputs": [
    {
     "name": "stdout",
     "output_type": "stream",
     "text": [
      "        User-ID                                  Location   Age\n",
      "0            \"1                  nyc, new york, usa\";NULL  None\n",
      "1            \"2                 stockton, california, usa   18\"\n",
      "2            \"3     moscow, yukon territory, russia\";NULL  None\n",
      "3            \"4                 porto, v.n.gaia, portugal   17\"\n",
      "4            \"5  farnborough, hants, united kingdom\";NULL  None\n",
      "...         ...                                       ...   ...\n",
      "278854  \"278854               portland, oregon, usa\";NULL  None\n",
      "278855  \"278855        tacoma, washington, united kingdom   50\"\n",
      "278856  \"278856           brampton, ontario, canada\";NULL  None\n",
      "278857  \"278857           knoxville, tennessee, usa\";NULL  None\n",
      "278858  \"278858                dublin, n/a, ireland\";NULL  None\n",
      "\n",
      "[278859 rows x 3 columns]\n"
     ]
    }
   ],
   "source": [
    "print(users)"
   ]
  },
  {
   "cell_type": "code",
   "execution_count": 5,
   "metadata": {},
   "outputs": [
    {
     "name": "stdout",
     "output_type": "stream",
     "text": [
      "               ISBN                                         Book-Title  \\\n",
      "0       \"0195153448                                Classical Mythology   \n",
      "1       \"0002005018                                       Clara Callan   \n",
      "2       \"0060973129                               Decision in Normandy   \n",
      "3       \"0374157065  Flu: The Story of the Great Influenza Pandemic...   \n",
      "4       \"0393045218                             The Mummies of Urumchi   \n",
      "...             ...                                                ...   \n",
      "271374  \"0440400988                         There's a Bat in Bunk Five   \n",
      "271375  \"0525447644                            From One to One Hundred   \n",
      "271376  \"006008667X  Lily Dale : The True Story of the Town that Ta...   \n",
      "271377  \"0192126040                        Republic (World's Classics)   \n",
      "271378  \"0767409752  A Guided Tour of Rene Descartes' Meditations o...   \n",
      "\n",
      "                 Book-Author  Year-Of-Publication  \\\n",
      "0         Mark P. O. Morford                 2002   \n",
      "1       Richard Bruce Wright                 2001   \n",
      "2               Carlo D'Este                 1991   \n",
      "3           Gina Bari Kolata                 1999   \n",
      "4            E. J. W. Barber                 1999   \n",
      "...                      ...                  ...   \n",
      "271374        Paula Danziger                 1988   \n",
      "271375            Teri Sloat                 1991   \n",
      "271376      Christine Wicker                 2004   \n",
      "271377                 Plato                 1996   \n",
      "271378   Christopher  Biffle                 2000   \n",
      "\n",
      "                                               Publisher  \\\n",
      "0                                Oxford University Press   \n",
      "1                                  HarperFlamingo Canada   \n",
      "2                                        HarperPerennial   \n",
      "3                                   Farrar Straus Giroux   \n",
      "4                             W. W. Norton &amp; Company   \n",
      "...                                                  ...   \n",
      "271374                   Random House Childrens Pub (Mm)   \n",
      "271375                                      Dutton Books   \n",
      "271376                                HarperSanFrancisco   \n",
      "271377                           Oxford University Press   \n",
      "271378  McGraw-Hill Humanities/Social Sciences/Languages   \n",
      "\n",
      "                                              Image-Url-S  \\\n",
      "0       http://images.amazon.com/images/P/0195153448.0...   \n",
      "1       http://images.amazon.com/images/P/0002005018.0...   \n",
      "2       http://images.amazon.com/images/P/0060973129.0...   \n",
      "3       http://images.amazon.com/images/P/0374157065.0...   \n",
      "4       http://images.amazon.com/images/P/0393045218.0...   \n",
      "...                                                   ...   \n",
      "271374  http://images.amazon.com/images/P/0440400988.0...   \n",
      "271375  http://images.amazon.com/images/P/0525447644.0...   \n",
      "271376  http://images.amazon.com/images/P/006008667X.0...   \n",
      "271377  http://images.amazon.com/images/P/0192126040.0...   \n",
      "271378  http://images.amazon.com/images/P/0767409752.0...   \n",
      "\n",
      "                                              Image-Url-M  \\\n",
      "0       http://images.amazon.com/images/P/0195153448.0...   \n",
      "1       http://images.amazon.com/images/P/0002005018.0...   \n",
      "2       http://images.amazon.com/images/P/0060973129.0...   \n",
      "3       http://images.amazon.com/images/P/0374157065.0...   \n",
      "4       http://images.amazon.com/images/P/0393045218.0...   \n",
      "...                                                   ...   \n",
      "271374  http://images.amazon.com/images/P/0440400988.0...   \n",
      "271375  http://images.amazon.com/images/P/0525447644.0...   \n",
      "271376  http://images.amazon.com/images/P/006008667X.0...   \n",
      "271377  http://images.amazon.com/images/P/0192126040.0...   \n",
      "271378  http://images.amazon.com/images/P/0767409752.0...   \n",
      "\n",
      "                                              Image-Url-L  \n",
      "0       http://images.amazon.com/images/P/0195153448.0...  \n",
      "1       http://images.amazon.com/images/P/0002005018.0...  \n",
      "2       http://images.amazon.com/images/P/0060973129.0...  \n",
      "3       http://images.amazon.com/images/P/0374157065.0...  \n",
      "4       http://images.amazon.com/images/P/0393045218.0...  \n",
      "...                                                   ...  \n",
      "271374  http://images.amazon.com/images/P/0440400988.0...  \n",
      "271375  http://images.amazon.com/images/P/0525447644.0...  \n",
      "271376  http://images.amazon.com/images/P/006008667X.0...  \n",
      "271377  http://images.amazon.com/images/P/0192126040.0...  \n",
      "271378  http://images.amazon.com/images/P/0767409752.0...  \n",
      "\n",
      "[271379 rows x 8 columns]\n"
     ]
    }
   ],
   "source": [
    "print(books)"
   ]
  },
  {
   "cell_type": "code",
   "execution_count": 6,
   "metadata": {
    "scrolled": false
   },
   "outputs": [
    {
     "name": "stdout",
     "output_type": "stream",
     "text": [
      "         User-ID         ISBN Book-Rating\n",
      "0        \"276725   034545104X          0\"\n",
      "1        \"276726   0155061224          5\"\n",
      "2        \"276727   0446520802          0\"\n",
      "3        \"276729   052165615X          3\"\n",
      "4        \"276729   0521795028          6\"\n",
      "...          ...          ...         ...\n",
      "1149775  \"276704   1563526298          9\"\n",
      "1149776  \"276706   0679447156          0\"\n",
      "1149777  \"276709   0515107662         10\"\n",
      "1149778  \"276721   0590442449         10\"\n",
      "1149779  \"276723  05162443314          8\"\n",
      "\n",
      "[1149780 rows x 3 columns]\n"
     ]
    }
   ],
   "source": [
    "print(ratings)"
   ]
  },
  {
   "cell_type": "code",
   "execution_count": 7,
   "metadata": {
    "scrolled": true
   },
   "outputs": [
    {
     "data": {
      "text/html": [
       "<div>\n",
       "<style scoped>\n",
       "    .dataframe tbody tr th:only-of-type {\n",
       "        vertical-align: middle;\n",
       "    }\n",
       "\n",
       "    .dataframe tbody tr th {\n",
       "        vertical-align: top;\n",
       "    }\n",
       "\n",
       "    .dataframe thead th {\n",
       "        text-align: right;\n",
       "    }\n",
       "</style>\n",
       "<table border=\"1\" class=\"dataframe\">\n",
       "  <thead>\n",
       "    <tr style=\"text-align: right;\">\n",
       "      <th></th>\n",
       "      <th>User-ID</th>\n",
       "      <th>Location</th>\n",
       "      <th>Age</th>\n",
       "    </tr>\n",
       "  </thead>\n",
       "  <tbody>\n",
       "    <tr>\n",
       "      <th>count</th>\n",
       "      <td>278859</td>\n",
       "      <td>278858</td>\n",
       "      <td>168096</td>\n",
       "    </tr>\n",
       "    <tr>\n",
       "      <th>unique</th>\n",
       "      <td>278859</td>\n",
       "      <td>70328</td>\n",
       "      <td>165</td>\n",
       "    </tr>\n",
       "    <tr>\n",
       "      <th>top</th>\n",
       "      <td>\"130823</td>\n",
       "      <td>london, england, united kingdom</td>\n",
       "      <td>24\"</td>\n",
       "    </tr>\n",
       "    <tr>\n",
       "      <th>freq</th>\n",
       "      <td>1</td>\n",
       "      <td>1629</td>\n",
       "      <td>5687</td>\n",
       "    </tr>\n",
       "  </tbody>\n",
       "</table>\n",
       "</div>"
      ],
      "text/plain": [
       "        User-ID                         Location     Age\n",
       "count    278859                           278858  168096\n",
       "unique   278859                            70328     165\n",
       "top     \"130823  london, england, united kingdom     24\"\n",
       "freq          1                             1629    5687"
      ]
     },
     "execution_count": 7,
     "metadata": {},
     "output_type": "execute_result"
    }
   ],
   "source": [
    "users.describe()"
   ]
  },
  {
   "cell_type": "code",
   "execution_count": 8,
   "metadata": {
    "scrolled": true
   },
   "outputs": [
    {
     "data": {
      "text/html": [
       "<div>\n",
       "<style scoped>\n",
       "    .dataframe tbody tr th:only-of-type {\n",
       "        vertical-align: middle;\n",
       "    }\n",
       "\n",
       "    .dataframe tbody tr th {\n",
       "        vertical-align: top;\n",
       "    }\n",
       "\n",
       "    .dataframe thead th {\n",
       "        text-align: right;\n",
       "    }\n",
       "</style>\n",
       "<table border=\"1\" class=\"dataframe\">\n",
       "  <thead>\n",
       "    <tr style=\"text-align: right;\">\n",
       "      <th></th>\n",
       "      <th>Year-Of-Publication</th>\n",
       "    </tr>\n",
       "  </thead>\n",
       "  <tbody>\n",
       "    <tr>\n",
       "      <th>count</th>\n",
       "      <td>271379.000000</td>\n",
       "    </tr>\n",
       "    <tr>\n",
       "      <th>mean</th>\n",
       "      <td>1959.756050</td>\n",
       "    </tr>\n",
       "    <tr>\n",
       "      <th>std</th>\n",
       "      <td>258.011363</td>\n",
       "    </tr>\n",
       "    <tr>\n",
       "      <th>min</th>\n",
       "      <td>0.000000</td>\n",
       "    </tr>\n",
       "    <tr>\n",
       "      <th>25%</th>\n",
       "      <td>1989.000000</td>\n",
       "    </tr>\n",
       "    <tr>\n",
       "      <th>50%</th>\n",
       "      <td>1995.000000</td>\n",
       "    </tr>\n",
       "    <tr>\n",
       "      <th>75%</th>\n",
       "      <td>2000.000000</td>\n",
       "    </tr>\n",
       "    <tr>\n",
       "      <th>max</th>\n",
       "      <td>2050.000000</td>\n",
       "    </tr>\n",
       "  </tbody>\n",
       "</table>\n",
       "</div>"
      ],
      "text/plain": [
       "       Year-Of-Publication\n",
       "count        271379.000000\n",
       "mean           1959.756050\n",
       "std             258.011363\n",
       "min               0.000000\n",
       "25%            1989.000000\n",
       "50%            1995.000000\n",
       "75%            2000.000000\n",
       "max            2050.000000"
      ]
     },
     "execution_count": 8,
     "metadata": {},
     "output_type": "execute_result"
    }
   ],
   "source": [
    "books.describe()"
   ]
  },
  {
   "cell_type": "code",
   "execution_count": 9,
   "metadata": {},
   "outputs": [
    {
     "data": {
      "text/html": [
       "<div>\n",
       "<style scoped>\n",
       "    .dataframe tbody tr th:only-of-type {\n",
       "        vertical-align: middle;\n",
       "    }\n",
       "\n",
       "    .dataframe tbody tr th {\n",
       "        vertical-align: top;\n",
       "    }\n",
       "\n",
       "    .dataframe thead th {\n",
       "        text-align: right;\n",
       "    }\n",
       "</style>\n",
       "<table border=\"1\" class=\"dataframe\">\n",
       "  <thead>\n",
       "    <tr style=\"text-align: right;\">\n",
       "      <th></th>\n",
       "      <th>User-ID</th>\n",
       "      <th>ISBN</th>\n",
       "      <th>Book-Rating</th>\n",
       "    </tr>\n",
       "  </thead>\n",
       "  <tbody>\n",
       "    <tr>\n",
       "      <th>count</th>\n",
       "      <td>1149780</td>\n",
       "      <td>1149780</td>\n",
       "      <td>1149780</td>\n",
       "    </tr>\n",
       "    <tr>\n",
       "      <th>unique</th>\n",
       "      <td>105283</td>\n",
       "      <td>340556</td>\n",
       "      <td>11</td>\n",
       "    </tr>\n",
       "    <tr>\n",
       "      <th>top</th>\n",
       "      <td>\"11676</td>\n",
       "      <td>0971880107</td>\n",
       "      <td>0\"</td>\n",
       "    </tr>\n",
       "    <tr>\n",
       "      <th>freq</th>\n",
       "      <td>13602</td>\n",
       "      <td>2502</td>\n",
       "      <td>716109</td>\n",
       "    </tr>\n",
       "  </tbody>\n",
       "</table>\n",
       "</div>"
      ],
      "text/plain": [
       "        User-ID        ISBN Book-Rating\n",
       "count   1149780     1149780     1149780\n",
       "unique   105283      340556          11\n",
       "top      \"11676  0971880107          0\"\n",
       "freq      13602        2502      716109"
      ]
     },
     "execution_count": 9,
     "metadata": {},
     "output_type": "execute_result"
    }
   ],
   "source": [
    "ratings.describe()"
   ]
  },
  {
   "cell_type": "code",
   "execution_count": 10,
   "metadata": {},
   "outputs": [],
   "source": [
    "users['User-ID'] = users['User-ID'].str.replace(\"\\\"\",\"\")\n",
    "users['Location'] = users['Location'].str.replace(\"\\\";NULL\",\"\")\n",
    "users['Age'] = users['Age'].fillna(\"0\")\n",
    "users['Age'] = users['Age'].str.replace(\"\\\"\",\"\")\n",
    "books['ISBN'] = books['ISBN'].str.replace(\"\\\"\",\"\")\n",
    "books['Book-Title'] = books['Book-Title'].str.replace(\"\\\"\",\"\")\n",
    "ratings['User-ID'] = ratings['User-ID'].str.replace(\"\\\"\",\"\")\n",
    "ratings['Book-Rating'] = ratings['Book-Rating'].str.replace(\"\\\"\",\"\").astype(int)"
   ]
  },
  {
   "cell_type": "code",
   "execution_count": 11,
   "metadata": {},
   "outputs": [
    {
     "data": {
      "text/html": [
       "<div>\n",
       "<style scoped>\n",
       "    .dataframe tbody tr th:only-of-type {\n",
       "        vertical-align: middle;\n",
       "    }\n",
       "\n",
       "    .dataframe tbody tr th {\n",
       "        vertical-align: top;\n",
       "    }\n",
       "\n",
       "    .dataframe thead th {\n",
       "        text-align: right;\n",
       "    }\n",
       "</style>\n",
       "<table border=\"1\" class=\"dataframe\">\n",
       "  <thead>\n",
       "    <tr style=\"text-align: right;\">\n",
       "      <th></th>\n",
       "      <th>User-ID</th>\n",
       "      <th>ISBN</th>\n",
       "      <th>Book-Rating</th>\n",
       "    </tr>\n",
       "  </thead>\n",
       "  <tbody>\n",
       "    <tr>\n",
       "      <th>8</th>\n",
       "      <td>276744</td>\n",
       "      <td>038550120X</td>\n",
       "      <td>7</td>\n",
       "    </tr>\n",
       "    <tr>\n",
       "      <th>16</th>\n",
       "      <td>276747</td>\n",
       "      <td>0060517794</td>\n",
       "      <td>9</td>\n",
       "    </tr>\n",
       "    <tr>\n",
       "      <th>19</th>\n",
       "      <td>276747</td>\n",
       "      <td>0671537458</td>\n",
       "      <td>9</td>\n",
       "    </tr>\n",
       "    <tr>\n",
       "      <th>20</th>\n",
       "      <td>276747</td>\n",
       "      <td>0679776818</td>\n",
       "      <td>8</td>\n",
       "    </tr>\n",
       "    <tr>\n",
       "      <th>28</th>\n",
       "      <td>276754</td>\n",
       "      <td>0684867621</td>\n",
       "      <td>8</td>\n",
       "    </tr>\n",
       "    <tr>\n",
       "      <th>...</th>\n",
       "      <td>...</td>\n",
       "      <td>...</td>\n",
       "      <td>...</td>\n",
       "    </tr>\n",
       "    <tr>\n",
       "      <th>1149743</th>\n",
       "      <td>276688</td>\n",
       "      <td>0836218655</td>\n",
       "      <td>10</td>\n",
       "    </tr>\n",
       "    <tr>\n",
       "      <th>1149744</th>\n",
       "      <td>276688</td>\n",
       "      <td>0836236688</td>\n",
       "      <td>10</td>\n",
       "    </tr>\n",
       "    <tr>\n",
       "      <th>1149761</th>\n",
       "      <td>276704</td>\n",
       "      <td>0345386108</td>\n",
       "      <td>6</td>\n",
       "    </tr>\n",
       "    <tr>\n",
       "      <th>1149771</th>\n",
       "      <td>276704</td>\n",
       "      <td>0743211383</td>\n",
       "      <td>7</td>\n",
       "    </tr>\n",
       "    <tr>\n",
       "      <th>1149777</th>\n",
       "      <td>276709</td>\n",
       "      <td>0515107662</td>\n",
       "      <td>10</td>\n",
       "    </tr>\n",
       "  </tbody>\n",
       "</table>\n",
       "<p>183102 rows × 3 columns</p>\n",
       "</div>"
      ],
      "text/plain": [
       "        User-ID        ISBN  Book-Rating\n",
       "8        276744  038550120X            7\n",
       "16       276747  0060517794            9\n",
       "19       276747  0671537458            9\n",
       "20       276747  0679776818            8\n",
       "28       276754  0684867621            8\n",
       "...         ...         ...          ...\n",
       "1149743  276688  0836218655           10\n",
       "1149744  276688  0836236688           10\n",
       "1149761  276704  0345386108            6\n",
       "1149771  276704  0743211383            7\n",
       "1149777  276709  0515107662           10\n",
       "\n",
       "[183102 rows x 3 columns]"
      ]
     },
     "execution_count": 11,
     "metadata": {},
     "output_type": "execute_result"
    }
   ],
   "source": [
    "quality_ratings = ratings[ratings['Book-Rating']!=0]\n",
    "quality_book = quality_ratings['ISBN'].value_counts().rename_axis('ISBN').reset_index(name = 'Count')\n",
    "quality_book = quality_book[quality_book['Count']>5]['ISBN'].to_list()\n",
    "quality_ratings = quality_ratings[quality_ratings['ISBN'].isin(quality_book)]\n",
    "quality_ratings"
   ]
  },
  {
   "cell_type": "code",
   "execution_count": 12,
   "metadata": {},
   "outputs": [
    {
     "data": {
      "text/html": [
       "<div>\n",
       "<style scoped>\n",
       "    .dataframe tbody tr th:only-of-type {\n",
       "        vertical-align: middle;\n",
       "    }\n",
       "\n",
       "    .dataframe tbody tr th {\n",
       "        vertical-align: top;\n",
       "    }\n",
       "\n",
       "    .dataframe thead th {\n",
       "        text-align: right;\n",
       "    }\n",
       "</style>\n",
       "<table border=\"1\" class=\"dataframe\">\n",
       "  <thead>\n",
       "    <tr style=\"text-align: right;\">\n",
       "      <th></th>\n",
       "      <th>User-ID</th>\n",
       "      <th>ISBN</th>\n",
       "      <th>Book-Rating</th>\n",
       "    </tr>\n",
       "  </thead>\n",
       "  <tbody>\n",
       "    <tr>\n",
       "      <th>174</th>\n",
       "      <td>276847</td>\n",
       "      <td>3257200552</td>\n",
       "      <td>5</td>\n",
       "    </tr>\n",
       "    <tr>\n",
       "      <th>177</th>\n",
       "      <td>276847</td>\n",
       "      <td>3404148576</td>\n",
       "      <td>8</td>\n",
       "    </tr>\n",
       "    <tr>\n",
       "      <th>179</th>\n",
       "      <td>276847</td>\n",
       "      <td>3423071516</td>\n",
       "      <td>10</td>\n",
       "    </tr>\n",
       "    <tr>\n",
       "      <th>182</th>\n",
       "      <td>276847</td>\n",
       "      <td>3426029553</td>\n",
       "      <td>8</td>\n",
       "    </tr>\n",
       "    <tr>\n",
       "      <th>186</th>\n",
       "      <td>276847</td>\n",
       "      <td>3442413508</td>\n",
       "      <td>10</td>\n",
       "    </tr>\n",
       "    <tr>\n",
       "      <th>...</th>\n",
       "      <td>...</td>\n",
       "      <td>...</td>\n",
       "      <td>...</td>\n",
       "    </tr>\n",
       "    <tr>\n",
       "      <th>1149715</th>\n",
       "      <td>276688</td>\n",
       "      <td>0553575104</td>\n",
       "      <td>6</td>\n",
       "    </tr>\n",
       "    <tr>\n",
       "      <th>1149738</th>\n",
       "      <td>276688</td>\n",
       "      <td>0688156134</td>\n",
       "      <td>8</td>\n",
       "    </tr>\n",
       "    <tr>\n",
       "      <th>1149739</th>\n",
       "      <td>276688</td>\n",
       "      <td>0743202694</td>\n",
       "      <td>10</td>\n",
       "    </tr>\n",
       "    <tr>\n",
       "      <th>1149743</th>\n",
       "      <td>276688</td>\n",
       "      <td>0836218655</td>\n",
       "      <td>10</td>\n",
       "    </tr>\n",
       "    <tr>\n",
       "      <th>1149744</th>\n",
       "      <td>276688</td>\n",
       "      <td>0836236688</td>\n",
       "      <td>10</td>\n",
       "    </tr>\n",
       "  </tbody>\n",
       "</table>\n",
       "<p>118013 rows × 3 columns</p>\n",
       "</div>"
      ],
      "text/plain": [
       "        User-ID        ISBN  Book-Rating\n",
       "174      276847  3257200552            5\n",
       "177      276847  3404148576            8\n",
       "179      276847  3423071516           10\n",
       "182      276847  3426029553            8\n",
       "186      276847  3442413508           10\n",
       "...         ...         ...          ...\n",
       "1149715  276688  0553575104            6\n",
       "1149738  276688  0688156134            8\n",
       "1149739  276688  0743202694           10\n",
       "1149743  276688  0836218655           10\n",
       "1149744  276688  0836236688           10\n",
       "\n",
       "[118013 rows x 3 columns]"
      ]
     },
     "execution_count": 12,
     "metadata": {},
     "output_type": "execute_result"
    }
   ],
   "source": [
    "quality_user = quality_ratings['User-ID'].value_counts().rename_axis('User-ID').reset_index(name = 'Count')\n",
    "quality_user = quality_user[quality_user['Count']>5]['User-ID'].to_list()\n",
    "quality_ratings = quality_ratings[quality_ratings['User-ID'].isin(quality_user)]\n",
    "quality_ratings"
   ]
  },
  {
   "cell_type": "code",
   "execution_count": 13,
   "metadata": {},
   "outputs": [
    {
     "data": {
      "text/html": [
       "<div>\n",
       "<style scoped>\n",
       "    .dataframe tbody tr th:only-of-type {\n",
       "        vertical-align: middle;\n",
       "    }\n",
       "\n",
       "    .dataframe tbody tr th {\n",
       "        vertical-align: top;\n",
       "    }\n",
       "\n",
       "    .dataframe thead th {\n",
       "        text-align: right;\n",
       "    }\n",
       "</style>\n",
       "<table border=\"1\" class=\"dataframe\">\n",
       "  <thead>\n",
       "    <tr style=\"text-align: right;\">\n",
       "      <th></th>\n",
       "      <th>User-ID</th>\n",
       "      <th>Mean-Square</th>\n",
       "      <th>Root-Mean-Square</th>\n",
       "      <th>ISBN</th>\n",
       "      <th>Book-Rating</th>\n",
       "      <th>Mean-Rating-User</th>\n",
       "      <th>Diff</th>\n",
       "      <th>Square</th>\n",
       "      <th>Norm-Rating</th>\n",
       "    </tr>\n",
       "  </thead>\n",
       "  <tbody>\n",
       "    <tr>\n",
       "      <th>14735</th>\n",
       "      <td>124989</td>\n",
       "      <td>0.956522</td>\n",
       "      <td>0.978019</td>\n",
       "      <td>0061092096</td>\n",
       "      <td>9</td>\n",
       "      <td>9.956522</td>\n",
       "      <td>-0.956522</td>\n",
       "      <td>0.914934</td>\n",
       "      <td>0</td>\n",
       "    </tr>\n",
       "    <tr>\n",
       "      <th>54488</th>\n",
       "      <td>213760</td>\n",
       "      <td>56.769231</td>\n",
       "      <td>7.534536</td>\n",
       "      <td>0671693816</td>\n",
       "      <td>3</td>\n",
       "      <td>7.692308</td>\n",
       "      <td>-4.692308</td>\n",
       "      <td>22.017751</td>\n",
       "      <td>1</td>\n",
       "    </tr>\n",
       "    <tr>\n",
       "      <th>20494</th>\n",
       "      <td>136011</td>\n",
       "      <td>27.714286</td>\n",
       "      <td>5.264436</td>\n",
       "      <td>055328942X</td>\n",
       "      <td>3</td>\n",
       "      <td>7.428571</td>\n",
       "      <td>-4.428571</td>\n",
       "      <td>19.612245</td>\n",
       "      <td>1</td>\n",
       "    </tr>\n",
       "    <tr>\n",
       "      <th>47555</th>\n",
       "      <td>198114</td>\n",
       "      <td>53.875000</td>\n",
       "      <td>7.339959</td>\n",
       "      <td>037541200X</td>\n",
       "      <td>1</td>\n",
       "      <td>6.625000</td>\n",
       "      <td>-5.625000</td>\n",
       "      <td>31.640625</td>\n",
       "      <td>1</td>\n",
       "    </tr>\n",
       "    <tr>\n",
       "      <th>31142</th>\n",
       "      <td>160541</td>\n",
       "      <td>102.000000</td>\n",
       "      <td>10.099505</td>\n",
       "      <td>0749324791</td>\n",
       "      <td>2</td>\n",
       "      <td>8.000000</td>\n",
       "      <td>-6.000000</td>\n",
       "      <td>36.000000</td>\n",
       "      <td>1</td>\n",
       "    </tr>\n",
       "    <tr>\n",
       "      <th>...</th>\n",
       "      <td>...</td>\n",
       "      <td>...</td>\n",
       "      <td>...</td>\n",
       "      <td>...</td>\n",
       "      <td>...</td>\n",
       "      <td>...</td>\n",
       "      <td>...</td>\n",
       "      <td>...</td>\n",
       "      <td>...</td>\n",
       "    </tr>\n",
       "    <tr>\n",
       "      <th>98100</th>\n",
       "      <td>5815</td>\n",
       "      <td>21.333333</td>\n",
       "      <td>4.618802</td>\n",
       "      <td>0316693251</td>\n",
       "      <td>10</td>\n",
       "      <td>7.333333</td>\n",
       "      <td>2.666667</td>\n",
       "      <td>7.111111</td>\n",
       "      <td>5</td>\n",
       "    </tr>\n",
       "    <tr>\n",
       "      <th>98082</th>\n",
       "      <td>58067</td>\n",
       "      <td>12.000000</td>\n",
       "      <td>3.464102</td>\n",
       "      <td>0062512668</td>\n",
       "      <td>10</td>\n",
       "      <td>8.000000</td>\n",
       "      <td>2.000000</td>\n",
       "      <td>4.000000</td>\n",
       "      <td>5</td>\n",
       "    </tr>\n",
       "    <tr>\n",
       "      <th>76394</th>\n",
       "      <td>259430</td>\n",
       "      <td>29.666667</td>\n",
       "      <td>5.446712</td>\n",
       "      <td>0679781587</td>\n",
       "      <td>10</td>\n",
       "      <td>5.833333</td>\n",
       "      <td>4.166667</td>\n",
       "      <td>17.361111</td>\n",
       "      <td>5</td>\n",
       "    </tr>\n",
       "    <tr>\n",
       "      <th>76499</th>\n",
       "      <td>259734</td>\n",
       "      <td>15.428571</td>\n",
       "      <td>3.927922</td>\n",
       "      <td>0441003257</td>\n",
       "      <td>10</td>\n",
       "      <td>7.714286</td>\n",
       "      <td>2.285714</td>\n",
       "      <td>5.224490</td>\n",
       "      <td>5</td>\n",
       "    </tr>\n",
       "    <tr>\n",
       "      <th>81490</th>\n",
       "      <td>271354</td>\n",
       "      <td>16.833333</td>\n",
       "      <td>4.102845</td>\n",
       "      <td>0316316962</td>\n",
       "      <td>10</td>\n",
       "      <td>7.166667</td>\n",
       "      <td>2.833333</td>\n",
       "      <td>8.027778</td>\n",
       "      <td>5</td>\n",
       "    </tr>\n",
       "  </tbody>\n",
       "</table>\n",
       "<p>118013 rows × 9 columns</p>\n",
       "</div>"
      ],
      "text/plain": [
       "      User-ID  Mean-Square  Root-Mean-Square        ISBN  Book-Rating  \\\n",
       "14735  124989     0.956522          0.978019  0061092096            9   \n",
       "54488  213760    56.769231          7.534536  0671693816            3   \n",
       "20494  136011    27.714286          5.264436  055328942X            3   \n",
       "47555  198114    53.875000          7.339959  037541200X            1   \n",
       "31142  160541   102.000000         10.099505  0749324791            2   \n",
       "...       ...          ...               ...         ...          ...   \n",
       "98100    5815    21.333333          4.618802  0316693251           10   \n",
       "98082   58067    12.000000          3.464102  0062512668           10   \n",
       "76394  259430    29.666667          5.446712  0679781587           10   \n",
       "76499  259734    15.428571          3.927922  0441003257           10   \n",
       "81490  271354    16.833333          4.102845  0316316962           10   \n",
       "\n",
       "       Mean-Rating-User      Diff     Square  Norm-Rating  \n",
       "14735          9.956522 -0.956522   0.914934            0  \n",
       "54488          7.692308 -4.692308  22.017751            1  \n",
       "20494          7.428571 -4.428571  19.612245            1  \n",
       "47555          6.625000 -5.625000  31.640625            1  \n",
       "31142          8.000000 -6.000000  36.000000            1  \n",
       "...                 ...       ...        ...          ...  \n",
       "98100          7.333333  2.666667   7.111111            5  \n",
       "98082          8.000000  2.000000   4.000000            5  \n",
       "76394          5.833333  4.166667  17.361111            5  \n",
       "76499          7.714286  2.285714   5.224490            5  \n",
       "81490          7.166667  2.833333   8.027778            5  \n",
       "\n",
       "[118013 rows x 9 columns]"
      ]
     },
     "execution_count": 13,
     "metadata": {},
     "output_type": "execute_result"
    }
   ],
   "source": [
    "mean_rating_user = quality_ratings.groupby('User-ID')['Book-Rating'].mean().reset_index(name='Mean-Rating-User')\n",
    "mean_data = pd.merge(quality_ratings, mean_rating_user, on='User-ID')\n",
    "mean_data['Diff'] = mean_data['Book-Rating'] - mean_data['Mean-Rating-User']\n",
    "mean_data['Square'] = (mean_data['Diff'])**2\n",
    "norm_data = mean_data.groupby('User-ID')['Square'].sum().reset_index(name='Mean-Square')\n",
    "norm_data['Root-Mean-Square'] = np.sqrt(norm_data['Mean-Square'])\n",
    "mean_data = pd.merge(norm_data, mean_data, on='User-ID')\n",
    "mean_data['Norm-Rating'] = mean_data['Diff']/(mean_data['Root-Mean-Square'])  \n",
    "mean_data['Norm-Rating'] = mean_data['Norm-Rating'].fillna(0)\n",
    "max_rating = mean_data.sort_values('Norm-Rating')['Norm-Rating'].to_list()[-1]\n",
    "min_rating = mean_data.sort_values('Norm-Rating')['Norm-Rating'].to_list()[0]\n",
    "mean_data['Norm-Rating'] = 5*(mean_data['Norm-Rating'] - min_rating)/(max_rating-min_rating)\n",
    "mean_data['Norm-Rating'] = np.ceil(mean_data['Norm-Rating']).astype(int)\n",
    "norm_ratings = mean_data[['User-ID','ISBN','Norm-Rating']]\n",
    "mean_data.sort_values('Norm-Rating')"
   ]
  },
  {
   "cell_type": "code",
   "execution_count": 14,
   "metadata": {},
   "outputs": [],
   "source": [
    "reader = Reader(rating_scale=(0, 5))\n",
    "data = Dataset.load_from_df(norm_ratings[['User-ID', 'ISBN', 'Norm-Rating']], reader)"
   ]
  },
  {
   "cell_type": "markdown",
   "metadata": {},
   "source": [
    "# Machine Learning and Matrix Factorization Models"
   ]
  },
  {
   "cell_type": "code",
   "execution_count": 15,
   "metadata": {
    "scrolled": true
   },
   "outputs": [
    {
     "name": "stdout",
     "output_type": "stream",
     "text": [
      "Estimating biases using als...\n",
      "Computing the msd similarity matrix...\n",
      "Done computing similarity matrix.\n",
      "Estimating biases using als...\n",
      "Computing the msd similarity matrix...\n",
      "Done computing similarity matrix.\n",
      "Estimating biases using als...\n",
      "Computing the msd similarity matrix...\n",
      "Done computing similarity matrix.\n",
      "Computing the msd similarity matrix...\n",
      "Done computing similarity matrix.\n",
      "Computing the msd similarity matrix...\n",
      "Done computing similarity matrix.\n",
      "Computing the msd similarity matrix...\n",
      "Done computing similarity matrix.\n",
      "Computing the msd similarity matrix...\n",
      "Done computing similarity matrix.\n",
      "Computing the msd similarity matrix...\n",
      "Done computing similarity matrix.\n",
      "Computing the msd similarity matrix...\n",
      "Done computing similarity matrix.\n",
      "Computing the msd similarity matrix...\n",
      "Done computing similarity matrix.\n",
      "Computing the msd similarity matrix...\n",
      "Done computing similarity matrix.\n",
      "Computing the msd similarity matrix...\n",
      "Done computing similarity matrix.\n",
      "Estimating biases using als...\n",
      "Estimating biases using als...\n",
      "Estimating biases using als...\n"
     ]
    }
   ],
   "source": [
    "benchmark = []\n",
    "for algorithm in [SVD(), \n",
    "                  SVDpp(), \n",
    "                  SlopeOne(), \n",
    "                  NMF(), \n",
    "                  NormalPredictor(), \n",
    "                  KNNBaseline(), \n",
    "                  KNNBasic(), \n",
    "                  KNNWithMeans(),\n",
    "                  KNNWithZScore(), \n",
    "                  BaselineOnly(),\n",
    "                  CoClustering()]:\n",
    "    \n",
    "    results = cross_validate(algorithm, data, measures=['RMSE'], cv=3, verbose=False)\n",
    "    tmp = pd.DataFrame.from_dict(results).mean(axis=0)\n",
    "    tmp = tmp.append(pd.Series([str(algorithm).split(' ')[0].split('.')[-1]], index=['Algorithm']))\n",
    "    benchmark.append(tmp)"
   ]
  },
  {
   "cell_type": "markdown",
   "metadata": {},
   "source": [
    "0.62 of RMSE says that predicted rating may have an error of 0.62"
   ]
  },
  {
   "cell_type": "code",
   "execution_count": 16,
   "metadata": {},
   "outputs": [
    {
     "data": {
      "text/html": [
       "<div>\n",
       "<style scoped>\n",
       "    .dataframe tbody tr th:only-of-type {\n",
       "        vertical-align: middle;\n",
       "    }\n",
       "\n",
       "    .dataframe tbody tr th {\n",
       "        vertical-align: top;\n",
       "    }\n",
       "\n",
       "    .dataframe thead th {\n",
       "        text-align: right;\n",
       "    }\n",
       "</style>\n",
       "<table border=\"1\" class=\"dataframe\">\n",
       "  <thead>\n",
       "    <tr style=\"text-align: right;\">\n",
       "      <th></th>\n",
       "      <th>test_rmse</th>\n",
       "      <th>fit_time</th>\n",
       "      <th>test_time</th>\n",
       "    </tr>\n",
       "    <tr>\n",
       "      <th>Algorithm</th>\n",
       "      <th></th>\n",
       "      <th></th>\n",
       "      <th></th>\n",
       "    </tr>\n",
       "  </thead>\n",
       "  <tbody>\n",
       "    <tr>\n",
       "      <th>BaselineOnly</th>\n",
       "      <td>0.623739</td>\n",
       "      <td>0.107471</td>\n",
       "      <td>0.165700</td>\n",
       "    </tr>\n",
       "    <tr>\n",
       "      <th>SVD</th>\n",
       "      <td>0.637767</td>\n",
       "      <td>3.883340</td>\n",
       "      <td>0.166011</td>\n",
       "    </tr>\n",
       "    <tr>\n",
       "      <th>SVDpp</th>\n",
       "      <td>0.642748</td>\n",
       "      <td>62.086101</td>\n",
       "      <td>2.691105</td>\n",
       "    </tr>\n",
       "    <tr>\n",
       "      <th>KNNBasic</th>\n",
       "      <td>0.651744</td>\n",
       "      <td>1.073407</td>\n",
       "      <td>0.811284</td>\n",
       "    </tr>\n",
       "    <tr>\n",
       "      <th>KNNBaseline</th>\n",
       "      <td>0.657618</td>\n",
       "      <td>1.219115</td>\n",
       "      <td>0.972412</td>\n",
       "    </tr>\n",
       "    <tr>\n",
       "      <th>KNNWithMeans</th>\n",
       "      <td>0.719125</td>\n",
       "      <td>1.137190</td>\n",
       "      <td>0.897885</td>\n",
       "    </tr>\n",
       "    <tr>\n",
       "      <th>KNNWithZScore</th>\n",
       "      <td>0.731071</td>\n",
       "      <td>1.264972</td>\n",
       "      <td>0.874334</td>\n",
       "    </tr>\n",
       "    <tr>\n",
       "      <th>SlopeOne</th>\n",
       "      <td>0.743856</td>\n",
       "      <td>5.022980</td>\n",
       "      <td>1.928043</td>\n",
       "    </tr>\n",
       "    <tr>\n",
       "      <th>NMF</th>\n",
       "      <td>0.752710</td>\n",
       "      <td>4.220082</td>\n",
       "      <td>0.144135</td>\n",
       "    </tr>\n",
       "    <tr>\n",
       "      <th>CoClustering</th>\n",
       "      <td>0.758655</td>\n",
       "      <td>1.644366</td>\n",
       "      <td>0.212990</td>\n",
       "    </tr>\n",
       "    <tr>\n",
       "      <th>NormalPredictor</th>\n",
       "      <td>0.875902</td>\n",
       "      <td>0.063890</td>\n",
       "      <td>0.223526</td>\n",
       "    </tr>\n",
       "  </tbody>\n",
       "</table>\n",
       "</div>"
      ],
      "text/plain": [
       "                 test_rmse   fit_time  test_time\n",
       "Algorithm                                       \n",
       "BaselineOnly      0.623739   0.107471   0.165700\n",
       "SVD               0.637767   3.883340   0.166011\n",
       "SVDpp             0.642748  62.086101   2.691105\n",
       "KNNBasic          0.651744   1.073407   0.811284\n",
       "KNNBaseline       0.657618   1.219115   0.972412\n",
       "KNNWithMeans      0.719125   1.137190   0.897885\n",
       "KNNWithZScore     0.731071   1.264972   0.874334\n",
       "SlopeOne          0.743856   5.022980   1.928043\n",
       "NMF               0.752710   4.220082   0.144135\n",
       "CoClustering      0.758655   1.644366   0.212990\n",
       "NormalPredictor   0.875902   0.063890   0.223526"
      ]
     },
     "execution_count": 16,
     "metadata": {},
     "output_type": "execute_result"
    }
   ],
   "source": [
    "surprise_results = pd.DataFrame(benchmark).set_index('Algorithm').sort_values('test_rmse')\n",
    "surprise_results"
   ]
  },
  {
   "cell_type": "markdown",
   "metadata": {},
   "source": [
    "# Machine Learning based Model"
   ]
  },
  {
   "cell_type": "markdown",
   "metadata": {},
   "source": [
    "BaselineOnly\n",
    "\n",
    "Algorithm predicting the baseline estimate for given user and item.\n",
    "\n",
    "𝑏𝑢𝑖=μ+𝑏𝑢+𝑏𝑖\n",
    " \n",
    "If user u is unknown, then the bias bu is assumed to be zero. The same applies for item i with bi.\n",
    "\n",
    "using SGD: Stocahstic Gradient Descent to minimize the loss with regularization parameter 0.5"
   ]
  },
  {
   "cell_type": "code",
   "execution_count": 17,
   "metadata": {},
   "outputs": [
    {
     "name": "stdout",
     "output_type": "stream",
     "text": [
      "Estimating biases using sgd...\n",
      "RMSE: 0.6158\n"
     ]
    },
    {
     "data": {
      "text/plain": [
       "0.6158366659799439"
      ]
     },
     "execution_count": 17,
     "metadata": {},
     "output_type": "execute_result"
    }
   ],
   "source": [
    "train_set, test_set = train_test_split(data, test_size=0.25)\n",
    "algo = BaselineOnly(bsl_options={'method': 'sgd','learning_rate': .00005, 'n_epochs':30, 'reg':0.5})\n",
    "fit = algo.fit(train_set)\n",
    "pred = fit.test(test_set)\n",
    "accuracy.rmse(pred)"
   ]
  },
  {
   "cell_type": "markdown",
   "metadata": {},
   "source": [
    "# Matrix Factorization Method"
   ]
  },
  {
   "cell_type": "markdown",
   "metadata": {},
   "source": [
    "SVD\n",
    "\n",
    "The famous SVD algorithm, as popularized by Simon Funk during the Netflix Prize. When baselines are not used, This is equivalent to Probabilistic Matrix.\n",
    "\n",
    "The prediction rui is set as:\n",
    "𝑟𝑢𝑖=μ+𝑏𝑢+𝑏𝑖+𝑞𝑇𝑖𝑝𝑢\n",
    "\n",
    "To estimate all the unknown, we minimize the following regularized squared error:\n",
    "\n",
    "∑𝑟𝑢𝑖∈𝑅𝑡𝑟𝑎𝑖𝑛(𝑟𝑢𝑖−𝑟𝑢𝑖)2+λ(𝑏2𝑖+𝑏2𝑢+||𝑞𝑖||2+||𝑝𝑢||2)"
   ]
  },
  {
   "cell_type": "code",
   "execution_count": 18,
   "metadata": {},
   "outputs": [
    {
     "name": "stdout",
     "output_type": "stream",
     "text": [
      "RMSE: 0.6358\n"
     ]
    },
    {
     "data": {
      "text/plain": [
       "0.635775226783601"
      ]
     },
     "execution_count": 18,
     "metadata": {},
     "output_type": "execute_result"
    }
   ],
   "source": [
    "# SVD \n",
    "\n",
    "algo = SVD(reg_bi = 0.5, lr_bi=0.005)\n",
    "fit = algo.fit(train_set)\n",
    "pred = fit.test(test_set)\n",
    "accuracy.rmse(pred)"
   ]
  },
  {
   "cell_type": "code",
   "execution_count": 19,
   "metadata": {},
   "outputs": [
    {
     "data": {
      "text/plain": [
       "array(['100009', '100053', '100066', ..., '99738', '99955', '99996'],\n",
       "      dtype=object)"
      ]
     },
     "execution_count": 19,
     "metadata": {},
     "output_type": "execute_result"
    }
   ],
   "source": [
    "recommend = algo.trainset\n",
    "users_norm = list(set(norm_ratings['User-ID'].to_list()))\n",
    "books_norm = list(set(norm_ratings['ISBN'].to_list()))\n",
    "norm_ratings['User-ID'].unique()"
   ]
  },
  {
   "cell_type": "code",
   "execution_count": 21,
   "metadata": {},
   "outputs": [
    {
     "ename": "ValueError",
     "evalue": "User 152036 is not part of the trainset.",
     "output_type": "error",
     "traceback": [
      "\u001b[0;31m---------------------------------------------------------------------------\u001b[0m",
      "\u001b[0;31mKeyError\u001b[0m                                  Traceback (most recent call last)",
      "\u001b[0;32m/Applications/Anaconda/anaconda3/lib/python3.8/site-packages/surprise/trainset.py\u001b[0m in \u001b[0;36mto_inner_uid\u001b[0;34m(self, ruid)\u001b[0m\n\u001b[1;32m    104\u001b[0m         \u001b[0;32mtry\u001b[0m\u001b[0;34m:\u001b[0m\u001b[0;34m\u001b[0m\u001b[0;34m\u001b[0m\u001b[0m\n\u001b[0;32m--> 105\u001b[0;31m             \u001b[0;32mreturn\u001b[0m \u001b[0mself\u001b[0m\u001b[0;34m.\u001b[0m\u001b[0m_raw2inner_id_users\u001b[0m\u001b[0;34m[\u001b[0m\u001b[0mruid\u001b[0m\u001b[0;34m]\u001b[0m\u001b[0;34m\u001b[0m\u001b[0;34m\u001b[0m\u001b[0m\n\u001b[0m\u001b[1;32m    106\u001b[0m         \u001b[0;32mexcept\u001b[0m \u001b[0mKeyError\u001b[0m\u001b[0;34m:\u001b[0m\u001b[0;34m\u001b[0m\u001b[0;34m\u001b[0m\u001b[0m\n",
      "\u001b[0;31mKeyError\u001b[0m: '152036'",
      "\nDuring handling of the above exception, another exception occurred:\n",
      "\u001b[0;31mValueError\u001b[0m                                Traceback (most recent call last)",
      "\u001b[0;32m<ipython-input-21-ef00b1eac9fc>\u001b[0m in \u001b[0;36m<module>\u001b[0;34m\u001b[0m\n\u001b[0;32m----> 1\u001b[0;31m \u001b[0mpred_users\u001b[0m \u001b[0;34m=\u001b[0m \u001b[0;34m[\u001b[0m\u001b[0muser\u001b[0m \u001b[0;32mfor\u001b[0m \u001b[0muser\u001b[0m \u001b[0;32min\u001b[0m \u001b[0musers_norm\u001b[0m \u001b[0;32mif\u001b[0m \u001b[0mrecommend\u001b[0m\u001b[0;34m.\u001b[0m\u001b[0mknows_user\u001b[0m\u001b[0;34m(\u001b[0m\u001b[0mrecommend\u001b[0m\u001b[0;34m.\u001b[0m\u001b[0mto_inner_uid\u001b[0m\u001b[0;34m(\u001b[0m\u001b[0muser\u001b[0m\u001b[0;34m)\u001b[0m\u001b[0;34m)\u001b[0m\u001b[0;34m]\u001b[0m\u001b[0;34m\u001b[0m\u001b[0;34m\u001b[0m\u001b[0m\n\u001b[0m\u001b[1;32m      2\u001b[0m \u001b[0mpred_books\u001b[0m \u001b[0;34m=\u001b[0m \u001b[0;34m[\u001b[0m\u001b[0;34m]\u001b[0m\u001b[0;34m\u001b[0m\u001b[0;34m\u001b[0m\u001b[0m\n\u001b[1;32m      3\u001b[0m \u001b[0;32mfor\u001b[0m \u001b[0mbook\u001b[0m \u001b[0;32min\u001b[0m \u001b[0mbooks_norm\u001b[0m\u001b[0;34m:\u001b[0m\u001b[0;34m\u001b[0m\u001b[0;34m\u001b[0m\u001b[0m\n\u001b[1;32m      4\u001b[0m     \u001b[0;32mtry\u001b[0m\u001b[0;34m:\u001b[0m\u001b[0;34m\u001b[0m\u001b[0;34m\u001b[0m\u001b[0m\n\u001b[1;32m      5\u001b[0m         \u001b[0;32mif\u001b[0m \u001b[0mrecommend\u001b[0m\u001b[0;34m.\u001b[0m\u001b[0mknows_item\u001b[0m\u001b[0;34m(\u001b[0m\u001b[0mrecommend\u001b[0m\u001b[0;34m.\u001b[0m\u001b[0mto_inner_iid\u001b[0m\u001b[0;34m(\u001b[0m\u001b[0mbook\u001b[0m\u001b[0;34m)\u001b[0m\u001b[0;34m)\u001b[0m\u001b[0;34m:\u001b[0m\u001b[0;34m\u001b[0m\u001b[0;34m\u001b[0m\u001b[0m\n",
      "\u001b[0;32m<ipython-input-21-ef00b1eac9fc>\u001b[0m in \u001b[0;36m<listcomp>\u001b[0;34m(.0)\u001b[0m\n\u001b[0;32m----> 1\u001b[0;31m \u001b[0mpred_users\u001b[0m \u001b[0;34m=\u001b[0m \u001b[0;34m[\u001b[0m\u001b[0muser\u001b[0m \u001b[0;32mfor\u001b[0m \u001b[0muser\u001b[0m \u001b[0;32min\u001b[0m \u001b[0musers_norm\u001b[0m \u001b[0;32mif\u001b[0m \u001b[0mrecommend\u001b[0m\u001b[0;34m.\u001b[0m\u001b[0mknows_user\u001b[0m\u001b[0;34m(\u001b[0m\u001b[0mrecommend\u001b[0m\u001b[0;34m.\u001b[0m\u001b[0mto_inner_uid\u001b[0m\u001b[0;34m(\u001b[0m\u001b[0muser\u001b[0m\u001b[0;34m)\u001b[0m\u001b[0;34m)\u001b[0m\u001b[0;34m]\u001b[0m\u001b[0;34m\u001b[0m\u001b[0;34m\u001b[0m\u001b[0m\n\u001b[0m\u001b[1;32m      2\u001b[0m \u001b[0mpred_books\u001b[0m \u001b[0;34m=\u001b[0m \u001b[0;34m[\u001b[0m\u001b[0;34m]\u001b[0m\u001b[0;34m\u001b[0m\u001b[0;34m\u001b[0m\u001b[0m\n\u001b[1;32m      3\u001b[0m \u001b[0;32mfor\u001b[0m \u001b[0mbook\u001b[0m \u001b[0;32min\u001b[0m \u001b[0mbooks_norm\u001b[0m\u001b[0;34m:\u001b[0m\u001b[0;34m\u001b[0m\u001b[0;34m\u001b[0m\u001b[0m\n\u001b[1;32m      4\u001b[0m     \u001b[0;32mtry\u001b[0m\u001b[0;34m:\u001b[0m\u001b[0;34m\u001b[0m\u001b[0;34m\u001b[0m\u001b[0m\n\u001b[1;32m      5\u001b[0m         \u001b[0;32mif\u001b[0m \u001b[0mrecommend\u001b[0m\u001b[0;34m.\u001b[0m\u001b[0mknows_item\u001b[0m\u001b[0;34m(\u001b[0m\u001b[0mrecommend\u001b[0m\u001b[0;34m.\u001b[0m\u001b[0mto_inner_iid\u001b[0m\u001b[0;34m(\u001b[0m\u001b[0mbook\u001b[0m\u001b[0;34m)\u001b[0m\u001b[0;34m)\u001b[0m\u001b[0;34m:\u001b[0m\u001b[0;34m\u001b[0m\u001b[0;34m\u001b[0m\u001b[0m\n",
      "\u001b[0;32m/Applications/Anaconda/anaconda3/lib/python3.8/site-packages/surprise/trainset.py\u001b[0m in \u001b[0;36mto_inner_uid\u001b[0;34m(self, ruid)\u001b[0m\n\u001b[1;32m    105\u001b[0m             \u001b[0;32mreturn\u001b[0m \u001b[0mself\u001b[0m\u001b[0;34m.\u001b[0m\u001b[0m_raw2inner_id_users\u001b[0m\u001b[0;34m[\u001b[0m\u001b[0mruid\u001b[0m\u001b[0;34m]\u001b[0m\u001b[0;34m\u001b[0m\u001b[0;34m\u001b[0m\u001b[0m\n\u001b[1;32m    106\u001b[0m         \u001b[0;32mexcept\u001b[0m \u001b[0mKeyError\u001b[0m\u001b[0;34m:\u001b[0m\u001b[0;34m\u001b[0m\u001b[0;34m\u001b[0m\u001b[0m\n\u001b[0;32m--> 107\u001b[0;31m             raise ValueError('User ' + str(ruid) +\n\u001b[0m\u001b[1;32m    108\u001b[0m                              ' is not part of the trainset.')\n\u001b[1;32m    109\u001b[0m \u001b[0;34m\u001b[0m\u001b[0m\n",
      "\u001b[0;31mValueError\u001b[0m: User 152036 is not part of the trainset."
     ]
    }
   ],
   "source": [
    "pred_users = [user for user in users_norm if recommend.knows_user(recommend.to_inner_uid(user))]\n",
    "pred_books = []\n",
    "for book in books_norm:\n",
    "    try:\n",
    "        if recommend.knows_item(recommend.to_inner_iid(book)):\n",
    "            pred_books.append(book)\n",
    "    except:\n",
    "        pass"
   ]
  },
  {
   "cell_type": "code",
   "execution_count": null,
   "metadata": {},
   "outputs": [],
   "source": [
    "pred_users[:5]"
   ]
  },
  {
   "cell_type": "markdown",
   "metadata": {},
   "source": [
    "# Recommendation Evaluation"
   ]
  },
  {
   "cell_type": "code",
   "execution_count": null,
   "metadata": {},
   "outputs": [],
   "source": [
    "def recommend_books(user_id, count):\n",
    "    result=[]\n",
    "    for b in pred_books:\n",
    "        result.append([b,algo.predict(user_id,b,r_ui=4).est])\n",
    "    recom = pd.DataFrame(result, columns=['ISBN','Rating'])\n",
    "    merge = pd.merge(recom,books, on='ISBN' )\n",
    "    return merge.sort_values('Rating', ascending=False).head(count)"
   ]
  },
  {
   "cell_type": "code",
   "execution_count": null,
   "metadata": {},
   "outputs": [],
   "source": [
    "recommendation = recommend_books('36938', 5)"
   ]
  },
  {
   "cell_type": "markdown",
   "metadata": {},
   "source": [
    "# Scoring"
   ]
  },
  {
   "cell_type": "markdown",
   "metadata": {},
   "source": [
    "Scoring\n",
    "After candidate generation, another model scores and ranks the generated candidates to select the set of items to display. The recommendation system may have multiple candidate generators that use different sources, such as the following:\n",
    "\n",
    "User features that account for personalization.\n",
    "geographic information into account.\n",
    "Popular or trending items.\n",
    "Here scoring is done based on published year"
   ]
  },
  {
   "cell_type": "code",
   "execution_count": null,
   "metadata": {},
   "outputs": [],
   "source": [
    "scoring = recommendation.sort_values('Year-Of-Publication')\n",
    "view = \"\".join([\"<span><img src='\"+a+\"'></span>\" for a in scoring['Image-Url-M'].to_list()])\n",
    "scoring[['Book-Title']]"
   ]
  },
  {
   "cell_type": "markdown",
   "metadata": {},
   "source": [
    "# Transforming data into the matrix\n",
    "Next, we transform the dataset into a matrix where each row represents the user and column represents the item.\n",
    "The n_users defines the number of users whereas n_items defines the number of items in the dataset. The loop iterates through each row of the dataframe and extracts ratings from it to form the user-item rating matrix."
   ]
  },
  {
   "cell_type": "code",
   "execution_count": null,
   "metadata": {},
   "outputs": [],
   "source": [
    "n_users = dataset.user_id.unique().shape[0]\n",
    "n_items = dataset.item_id.unique().shape[0]\n",
    "n_items = dataset['item_id'].max()\n",
    "\n",
    "print(n_users, n_items)"
   ]
  }
 ],
 "metadata": {
  "kernelspec": {
   "display_name": "Python 3",
   "language": "python",
   "name": "python3"
  },
  "language_info": {
   "codemirror_mode": {
    "name": "ipython",
    "version": 3
   },
   "file_extension": ".py",
   "mimetype": "text/x-python",
   "name": "python",
   "nbconvert_exporter": "python",
   "pygments_lexer": "ipython3",
   "version": "3.8.5"
  }
 },
 "nbformat": 4,
 "nbformat_minor": 4
}
